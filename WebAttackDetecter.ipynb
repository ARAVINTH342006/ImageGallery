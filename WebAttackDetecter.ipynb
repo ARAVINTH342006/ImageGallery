{
  "nbformat": 4,
  "nbformat_minor": 0,
  "metadata": {
    "colab": {
      "provenance": [],
      "mount_file_id": "https://github.com/ARAVINTH342006/ImageGallery/blob/main/WebAttackDetecter.ipynb",
      "authorship_tag": "ABX9TyPMtHCY1HjxC66WxhhxvgO+",
      "include_colab_link": true
    },
    "kernelspec": {
      "name": "python3",
      "display_name": "Python 3"
    },
    "language_info": {
      "name": "python"
    }
  },
  "cells": [
    {
      "cell_type": "markdown",
      "metadata": {
        "id": "view-in-github",
        "colab_type": "text"
      },
      "source": [
        "<a href=\"https://colab.research.google.com/github/ARAVINTH342006/ImageGallery/blob/main/WebAttackDetecter.ipynb\" target=\"_parent\"><img src=\"https://colab.research.google.com/assets/colab-badge.svg\" alt=\"Open In Colab\"/></a>"
      ]
    },
    {
      "cell_type": "markdown",
      "source": [
        "Import pandas and os library"
      ],
      "metadata": {
        "id": "YeeBBySiLrKB"
      }
    },
    {
      "cell_type": "code",
      "execution_count": 7,
      "metadata": {
        "id": "RmN9F6yqHhzd"
      },
      "outputs": [],
      "source": [
        "import pandas as pd\n",
        "import numpy as np\n",
        "import os\n",
        "from sklearn.model_selection import train_test_split\n",
        "from sklearn.preprocessing import StandardScaler\n",
        "from xgboost import XGBClassifier, plot_importance\n",
        "from sklearn.metrics import classification_report, confusion_matrix, roc_curve, auc,roc_auc_score\n",
        "import matplotlib.pyplot as plt\n",
        "import seaborn as sns\n",
        "from imblearn.over_sampling import SMOTE\n"
      ]
    },
    {
      "cell_type": "markdown",
      "source": [
        "**Load all datasets**\n",
        "\n",
        "\n",
        "\n"
      ],
      "metadata": {
        "id": "y-XU5UdVLfkd"
      }
    },
    {
      "cell_type": "code",
      "source": [
        "os.kill(os.getpid(), 9)\n",
        "csv_files=[\"/content/drive/MyDrive/WebAttackDetector/WebAttack ML/TrafficLabelling/Friday-WorkingHours-Afternoon-DDos.pcap_ISCX.csv\",\n",
        "           \"/content/drive/MyDrive/WebAttackDetector/WebAttack ML/TrafficLabelling/Friday-WorkingHours-Afternoon-PortScan.pcap_ISCX.csv\",\n",
        "           \"/content/drive/MyDrive/WebAttackDetector/WebAttack ML/TrafficLabelling/Friday-WorkingHours-Morning.pcap_ISCX.csv\",\n",
        "           \"/content/drive/MyDrive/WebAttackDetector/WebAttack ML/TrafficLabelling/Monday-WorkingHours.pcap_ISCX.csv\",\n",
        "           \"/content/drive/MyDrive/WebAttackDetector/WebAttack ML/TrafficLabelling/Thursday-WorkingHours-Afternoon-Infilteration.pcap_ISCX.csv\",\n",
        "           \"/content/drive/MyDrive/WebAttackDetector/WebAttack ML/TrafficLabelling/Thursday-WorkingHours-Morning-WebAttacks.pcap_ISCX.csv\",\n",
        "           \"/content/drive/MyDrive/WebAttackDetector/WebAttack ML/TrafficLabelling/Tuesday-WorkingHours.pcap_ISCX.csv\",\n",
        "           \"/content/drive/MyDrive/WebAttackDetector/WebAttack ML/TrafficLabelling/Wednesday-workingHours.pcap_ISCX.csv\"]\n",
        "\n",
        "\n",
        "\n",
        "\n",
        "dataframes = []\n",
        "for file in csv_files:\n",
        "    if os.path.exists(file):\n",
        "        df = pd.read_csv(file,encoding='ISO-8859-1', low_memory=False)\n",
        "        dataframes.append(df)\n",
        "    else:\n",
        "        print(f\"{file} not found!\")\n",
        "\n",
        "combined_df = pd.concat(dataframes, ignore_index=True)\n",
        "combined_df.columns = combined_df.columns.str.strip()"
      ],
      "metadata": {
        "id": "hcqIMajHLSVb"
      },
      "execution_count": null,
      "outputs": []
    },
    {
      "cell_type": "markdown",
      "source": [
        "**Preprocess**"
      ],
      "metadata": {
        "id": "yHfCTkN8aKRR"
      }
    },
    {
      "cell_type": "code",
      "source": [
        "columns_to_drop = ['Flow ID', 'Source IP', 'Destination IP', 'Timestamp']\n",
        "combined_df.drop(columns=columns_to_drop, inplace=True, errors='ignore')"
      ],
      "metadata": {
        "id": "-f31mo4iSpdV"
      },
      "execution_count": null,
      "outputs": []
    },
    {
      "cell_type": "markdown",
      "source": [
        "**Clean NaNs and infinities**"
      ],
      "metadata": {
        "id": "hfjRaGxcacU5"
      }
    },
    {
      "cell_type": "code",
      "source": [
        "combined_df.replace([np.inf, -np.inf], np.nan, inplace=True)\n",
        "combined_df.dropna(inplace=True)"
      ],
      "metadata": {
        "id": "51QLJZHdSryx"
      },
      "execution_count": null,
      "outputs": []
    },
    {
      "cell_type": "markdown",
      "source": [
        "**Simplify label: 0 = BENIGN, 1 = ATTACK**"
      ],
      "metadata": {
        "id": "oJFhWhGubAuI"
      }
    },
    {
      "cell_type": "code",
      "source": [
        "combined_df['Label'] = combined_df['Label'].apply(lambda x: 0 if str(x).strip().upper() == 'BENIGN' else 1)"
      ],
      "metadata": {
        "id": "5bD9Cx7ASwXg"
      },
      "execution_count": null,
      "outputs": []
    },
    {
      "cell_type": "markdown",
      "source": [
        "**Separate features and label**"
      ],
      "metadata": {
        "id": "va2BUz69bJwd"
      }
    },
    {
      "cell_type": "code",
      "source": [
        "X = combined_df.drop('Label', axis=1).select_dtypes(include=[np.number])\n",
        "y = combined_df['Label']"
      ],
      "metadata": {
        "id": "nlkiFjfcS1tA"
      },
      "execution_count": null,
      "outputs": []
    },
    {
      "cell_type": "markdown",
      "source": [
        "**Scale features**"
      ],
      "metadata": {
        "id": "BkRbEOs3bSTK"
      }
    },
    {
      "cell_type": "code",
      "source": [
        "scaler = StandardScaler()\n",
        "X_scaled = scaler.fit_transform(X)"
      ],
      "metadata": {
        "id": "2uc9I7NFS5N0"
      },
      "execution_count": null,
      "outputs": []
    },
    {
      "cell_type": "markdown",
      "source": [
        "**Train/Test split**"
      ],
      "metadata": {
        "id": "1tBH1PFbbZr5"
      }
    },
    {
      "cell_type": "code",
      "source": [
        "X_train, X_test, y_train, y_test = train_test_split(X_scaled, y, test_size=0.3, stratify=y, random_state=42)"
      ],
      "metadata": {
        "id": "qUNXTr8dS8aT"
      },
      "execution_count": null,
      "outputs": []
    },
    {
      "cell_type": "markdown",
      "source": [
        "**Train XGBoost**"
      ],
      "metadata": {
        "id": "c6IGvmoEbnm9"
      }
    },
    {
      "cell_type": "code",
      "source": [
        "xgb = XGBClassifier(use_label_encoder=False, eval_metric='logloss',max_depth=5,scale_pos_weight=4,learning_rate=0.1,n_estimators=200, random_state=42)\n",
        "xgb.fit(X_train, y_train)"
      ],
      "metadata": {
        "id": "vQPjoqPETBG4"
      },
      "execution_count": null,
      "outputs": []
    },
    {
      "cell_type": "code",
      "source": [
        "from lightgbm import LGBMClassifier\n",
        "\n",
        "lgbm_model = LGBMClassifier( n_estimators=1000,\n",
        "    learning_rate=0.05,\n",
        "    max_depth=8,\n",
        "    num_leaves=31,\n",
        "    min_child_samples=20,\n",
        "    subsample=0.8,\n",
        "    colsample_bytree=0.8,\n",
        "    class_weight='balanced',\n",
        "    random_state=42)\n",
        "lgbm_model.fit(X_train, y_train)"
      ],
      "metadata": {
        "id": "CArsKO9jOnm-"
      },
      "execution_count": null,
      "outputs": []
    },
    {
      "cell_type": "code",
      "source": [
        "!pip install catboost\n"
      ],
      "metadata": {
        "id": "F00MVKI7ToIP"
      },
      "execution_count": null,
      "outputs": []
    },
    {
      "cell_type": "code",
      "source": [
        "from catboost import CatBoostClassifier\n",
        "\n",
        "cat_model = CatBoostClassifier(\n",
        "    iterations=300,\n",
        "    learning_rate=0.05,\n",
        "    depth=6,\n",
        "    verbose=0,\n",
        "    random_state=42\n",
        ")\n",
        "\n",
        "cat_model.fit(X_train, y_train)"
      ],
      "metadata": {
        "id": "6G5wSSGOPEFI"
      },
      "execution_count": null,
      "outputs": []
    },
    {
      "cell_type": "code",
      "source": [
        "from sklearn.experimental import enable_hist_gradient_boosting\n",
        "from sklearn.ensemble import HistGradientBoostingClassifier\n",
        "\n",
        "hgb = HistGradientBoostingClassifier(\n",
        "    max_iter=300,\n",
        "    learning_rate=0.05,\n",
        "    max_depth=6,\n",
        "    random_state=42\n",
        ")\n",
        "\n",
        "hgb.fit(X_train, y_train)"
      ],
      "metadata": {
        "id": "DKEmI-cPVdZs"
      },
      "execution_count": null,
      "outputs": []
    },
    {
      "cell_type": "code",
      "source": [
        "from sklearn.linear_model import SGDClassifier\n",
        "from sklearn.preprocessing import StandardScaler\n",
        "from sklearn.metrics import classification_report\n",
        "from sklearn.pipeline import Pipeline\n",
        "\n",
        "pipeline = Pipeline([\n",
        "    (\"scaler\", StandardScaler()),\n",
        "    (\"sgd\", SGDClassifier(\n",
        "        loss=\"log_loss\",\n",
        "        penalty=\"l2\",\n",
        "        max_iter=1000,\n",
        "        tol=1e-3,\n",
        "        class_weight=\"balanced\",\n",
        "        random_state=42\n",
        "    ))\n",
        "])\n",
        "\n",
        "pipeline.fit(X_train, y_train)"
      ],
      "metadata": {
        "id": "Ylkvp78FWtpU"
      },
      "execution_count": null,
      "outputs": []
    },
    {
      "cell_type": "markdown",
      "source": [
        "**Feature Importance**"
      ],
      "metadata": {
        "id": "uuqr5lYhcCXI"
      }
    },
    {
      "cell_type": "code",
      "source": [
        "plt.figure(figsize=(12, 6))\n",
        "plot_importance(xgb.columns, max_num_features=15, height=0.5, importance_type='gain')\n",
        "plt.title(\"Top 15 Important Features for Attack Detection (by Gain) Xgboost\")\n",
        "plt.tight_layout()\n",
        "plt.show()"
      ],
      "metadata": {
        "id": "iPukEpU7TQWz"
      },
      "execution_count": null,
      "outputs": []
    },
    {
      "cell_type": "markdown",
      "source": [
        "**Evaluation**"
      ],
      "metadata": {
        "id": "Vki5CXIKcL1i"
      }
    },
    {
      "cell_type": "code",
      "source": [
        "plt.figure(figsize=(12, 6))\n",
        "plot_importance(lgbm_model.columns, max_num_features=15, height=0.5, importance_type='gain')\n",
        "plt.title(\"Top 15 Important Features for Attack Detection (by Gain) LightGBM\")\n",
        "plt.tight_layout()\n",
        "plt.show()"
      ],
      "metadata": {
        "id": "lqZTMybUddw4"
      },
      "execution_count": null,
      "outputs": []
    },
    {
      "cell_type": "code",
      "source": [
        "plt.figure(figsize=(12, 6))\n",
        "plot_importance(cat_model.columns, max_num_features=15, height=0.5, importance_type='gain')\n",
        "plt.title(\"Top 15 Important Features for Attack Detection (by Gain) Catboost\")\n",
        "plt.tight_layout()\n",
        "plt.show()"
      ],
      "metadata": {
        "id": "f7TmZ6c_dmeI"
      },
      "execution_count": null,
      "outputs": []
    },
    {
      "cell_type": "code",
      "source": [
        "plt.figure(figsize=(12, 6))\n",
        "plot_importance(hgb.columns, max_num_features=15, height=0.5, importance_type='gain')\n",
        "plt.title(\"Top 15 Important Features for Attack Detection (by Gain) HistGradientBoostingClassifier\")\n",
        "plt.tight_layout()\n",
        "plt.show()"
      ],
      "metadata": {
        "id": "mhADWSDHd1Iz"
      },
      "execution_count": null,
      "outputs": []
    },
    {
      "cell_type": "code",
      "source": [
        "plt.figure(figsize=(12, 6))\n",
        "plot_importance(pipeline.columns, max_num_features=15, height=0.5, importance_type='gain')\n",
        "plt.title(\"Top 15 Important Features for Attack Detection (by Gain) pipeline\")\n",
        "plt.tight_layout()\n",
        "plt.show()"
      ],
      "metadata": {
        "id": "CVDf1LqpeDVm"
      },
      "execution_count": null,
      "outputs": []
    },
    {
      "cell_type": "code",
      "source": [
        "y_pred_xgb = xgb.predict(X_test)\n",
        "y_proba_xgb = xgb.predict_proba(X_test)[:, 1]\n",
        "\n",
        "print(\"Classification Report(xgboost):\\n\", classification_report(y_test, y_pred_xgb))"
      ],
      "metadata": {
        "id": "vjOGLeyMTUIa"
      },
      "execution_count": null,
      "outputs": []
    },
    {
      "cell_type": "code",
      "source": [
        "y_pred_lgbm = lgbm.predict(X_test)\n",
        "y_proba_lgbm = lgbm.predict_proba(X_test)[:, 1]\n",
        "\n",
        "print(\"Classification Report(lightGBM):\\n\", classification_report(y_test, y_pred_lgbm))"
      ],
      "metadata": {
        "id": "IaZU8D24ecqN"
      },
      "execution_count": null,
      "outputs": []
    },
    {
      "cell_type": "code",
      "source": [
        "y_pred_cat = cat.predict(X_test)\n",
        "y_proba_cat = cat.predict_proba(X_test)[:, 1]\n",
        "\n",
        "print(\"Classification Report(catBoost):\\n\", classification_report(y_test, y_pred_cat))"
      ],
      "metadata": {
        "id": "Fj5sWR0GetBM"
      },
      "execution_count": null,
      "outputs": []
    },
    {
      "cell_type": "code",
      "source": [
        "y_pred_hgb= hgb.predict(X_test)\n",
        "y_proba_hgb= hgb.predict_proba(X_test)[:, 1]\n",
        "\n",
        "\n",
        "\n",
        "print(\"Classification Report(HistGradientBoosting):\\n\", classification_report(y_test, y_pred_hgb))"
      ],
      "metadata": {
        "id": "mMNEbxR4e_zr"
      },
      "execution_count": null,
      "outputs": []
    },
    {
      "cell_type": "code",
      "source": [
        "y_pred_pipeline= pipeline.predict(X_test)\n",
        "y_proba_pipeline= pipeline.predict_proba(X_test)[:, 1]\n",
        "\n",
        "print(\"Classification Report(pipeline):\\n\", classification_report(y_test, y_pred_pipeline))"
      ],
      "metadata": {
        "id": "YUgAA9ytfUsW"
      },
      "execution_count": null,
      "outputs": []
    },
    {
      "cell_type": "markdown",
      "source": [
        "**Confusion matrix**"
      ],
      "metadata": {
        "id": "U6cmPNbtcXiN"
      }
    },
    {
      "cell_type": "code",
      "source": [
        "cm_xgb = confusion_matrix(y_test, y_pred_xgb)\n",
        "plt.figure(figsize=(6, 5))\n",
        "sns.heatmap(cm_xgb, annot=True, fmt='d', cmap=\"Blues\", xticklabels=[\"Benign\", \"Attack\"], yticklabels=[\"Benign\", \"Attack\"])\n",
        "plt.xlabel(\"Predicted\")\n",
        "plt.ylabel(\"Actual\")\n",
        "plt.title(\"Confusion Matrix\")\n",
        "plt.show()\n"
      ],
      "metadata": {
        "id": "Pq7t9019TXR3"
      },
      "execution_count": null,
      "outputs": []
    },
    {
      "cell_type": "code",
      "source": [
        "cm_lgbm = confusion_matrix(y_test, y_pred_lgbm)\n",
        "plt.figure(figsize=(6, 5))\n",
        "sns.heatmap(cm_lgbm, annot=True, fmt='d', cmap=\"Blues\", xticklabels=[\"Benign\", \"Attack\"], yticklabels=[\"Benign\", \"Attack\"])\n",
        "plt.xlabel(\"Predicted\")\n",
        "plt.ylabel(\"Actual\")\n",
        "plt.title(\"Confusion Matrix\")\n",
        "plt.show()"
      ],
      "metadata": {
        "id": "DqlsxKIMf7Y0"
      },
      "execution_count": null,
      "outputs": []
    },
    {
      "cell_type": "code",
      "source": [
        "cm_cat = confusion_matrix(y_test, y_pred_cat)\n",
        "plt.figure(figsize=(6, 5))\n",
        "sns.heatmap(cm_cat, annot=True, fmt='d', cmap=\"Blues\", xticklabels=[\"Benign\", \"Attack\"], yticklabels=[\"Benign\", \"Attack\"])\n",
        "plt.xlabel(\"Predicted\")\n",
        "plt.ylabel(\"Actual\")\n",
        "plt.title(\"Confusion Matrix\")\n",
        "plt.show()"
      ],
      "metadata": {
        "id": "GqqIYJzWgBjh"
      },
      "execution_count": null,
      "outputs": []
    },
    {
      "cell_type": "code",
      "source": [
        "cm_hgb = confusion_matrix(y_test, y_pred_hgb)\n",
        "plt.figure(figsize=(6, 5))\n",
        "sns.heatmap(cm_hgb, annot=True, fmt='d', cmap=\"Blues\", xticklabels=[\"Benign\", \"Attack\"], yticklabels=[\"Benign\", \"Attack\"])\n",
        "plt.xlabel(\"Predicted\")\n",
        "plt.ylabel(\"Actual\")\n",
        "plt.title(\"Confusion Matrix\")\n",
        "plt.show()"
      ],
      "metadata": {
        "id": "EfYILE89gIkd"
      },
      "execution_count": null,
      "outputs": []
    },
    {
      "cell_type": "code",
      "source": [
        "cm_pipeline = confusion_matrix(y_test, y_pred_pipeline)\n",
        "plt.figure(figsize=(6, 5))\n",
        "sns.heatmap(cm_pipeline, annot=True, fmt='d', cmap=\"Blues\", xticklabels=[\"Benign\", \"Attack\"], yticklabels=[\"Benign\", \"Attack\"])\n",
        "plt.xlabel(\"Predicted\")\n",
        "plt.ylabel(\"Actual\")\n",
        "plt.title(\"Confusion Matrix\")\n",
        "plt.show()"
      ],
      "metadata": {
        "id": "R39_5tfMgNeV"
      },
      "execution_count": null,
      "outputs": []
    },
    {
      "cell_type": "markdown",
      "source": [
        "**ROC Curve**"
      ],
      "metadata": {
        "id": "i_mZyA7LckBL"
      }
    },
    {
      "cell_type": "code",
      "source": [
        "fpr, tpr, _ = roc_curve(y_test, y_proba)\n",
        "roc_auc = auc(fpr, tpr)\n",
        "plt.figure(figsize=(8, 6))\n",
        "plt.plot(fpr, tpr, label=f'XGBoost (AUC = {roc_auc:.2f})', color='orange')\n",
        "plt.plot([0, 1], [0, 1], linestyle='--', color='blue')\n",
        "plt.xlabel('False Positive Rate')\n",
        "plt.ylabel('True Positive Rate')\n",
        "plt.title('ROC Curve')\n",
        "plt.legend()\n",
        "plt.grid(True)\n",
        "plt.show()"
      ],
      "metadata": {
        "id": "M2tZAt74TaV_"
      },
      "execution_count": null,
      "outputs": []
    },
    {
      "cell_type": "code",
      "source": [
        "# Step 1: Start with your new partial data\n",
        "partial_data = {\n",
        "    'Destination Port': 54865,\n",
        "    'Flow Duration': 3,\n",
        "    'Total Fwd Packets': 2,\n",
        "    'Total Backward Packets': 0,\n",
        "    'Total Length of Fwd Packets': 12,\n",
        "    'Total Length of Bwd Packets': 0,\n",
        "    'Fwd Packet Length Max': 6,\n",
        "    'Fwd Packet Length Min': 6,\n",
        "    'Fwd Packet Length Mean': 6,\n",
        "    'Fwd Packet Length Std': 0.0,\n",
        "    # You can add more known values here...\n",
        "}\n",
        "\n",
        "# Step 2: Create full empty DataFrame row with all required feature columns\n",
        "full_input = pd.DataFrame(columns=X.columns)\n",
        "full_input.loc[0] = 0  # initialize all values to 0\n",
        "\n",
        "# Step 3: Fill in known values\n",
        "for col, value in partial_data.items():\n",
        "    if col in full_input.columns:\n",
        "        full_input.at[0, col] = value\n",
        "\n",
        "# Step 4: Scale it using your existing scaler\n",
        "full_input_scaled = scaler.transform(full_input)\n",
        "\n",
        "# Step 5: Predict using your trained XGBoost model\n",
        "prediction = xgb.predict(full_input_scaled)\n",
        "proba = xgb.predict_proba(full_input_scaled)[0][1]\n",
        "\n",
        "print(\"Prediction:\", \"Attack\" if prediction[0] == 1 else \"Benign\")\n",
        "print(\"Attack Probability:\", proba)\n"
      ],
      "metadata": {
        "id": "8LPAGG7Lc6C9"
      },
      "execution_count": null,
      "outputs": []
    },
    {
      "cell_type": "code",
      "source": [
        "from sklearn.metrics import accuracy_score\n",
        "\n",
        "# Accuracy on test set\n",
        "accuracy = accuracy_score(y_test, y_pred)\n",
        "print(f\"Accuracy of the XGBoost model: {accuracy * 100:.2f}%\")\n"
      ],
      "metadata": {
        "id": "-b4gV-AFeKbY"
      },
      "execution_count": null,
      "outputs": []
    },
    {
      "cell_type": "code",
      "source": [
        "print(f\"\"\"\n",
        "Model Evaluation:\n",
        "------------------------\n",
        "✅ Accuracy       : {accuracy_score(y_test, y_pred):.4f}\n",
        "📈 ROC AUC        : {roc_auc:.4f}\n",
        "📊 Confusion Matrix:\n",
        "{confusion_matrix(y_test, y_pred)}\n",
        "\"\"\")\n"
      ],
      "metadata": {
        "id": "1Un8Jvfjeb0I"
      },
      "execution_count": null,
      "outputs": []
    },
    {
      "cell_type": "code",
      "source": [
        "import joblib\n",
        "\n",
        "# Save model\n",
        "joblib.dump(xgb, 'xgboost_cicids2017_model.pkl')\n",
        "\n",
        "# Save the scaler too (important!)\n",
        "joblib.dump(scaler, 'scaler_cicids2017.pkl')\n"
      ],
      "metadata": {
        "id": "WAktQ5YKe0lt"
      },
      "execution_count": null,
      "outputs": []
    }
  ]
}